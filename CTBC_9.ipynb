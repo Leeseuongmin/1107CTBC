{
  "nbformat": 4,
  "nbformat_minor": 0,
  "metadata": {
    "colab": {
      "provenance": [],
      "authorship_tag": "ABX9TyMMzJ3XBEUYVmtYI8cVlpa7",
      "include_colab_link": true
    },
    "kernelspec": {
      "name": "python3",
      "display_name": "Python 3"
    },
    "language_info": {
      "name": "python"
    }
  },
  "cells": [
    {
      "cell_type": "markdown",
      "metadata": {
        "id": "view-in-github",
        "colab_type": "text"
      },
      "source": [
        "<a href=\"https://colab.research.google.com/github/Leeseuongmin/1107CTBC/blob/main/CTBC_9.ipynb\" target=\"_parent\"><img src=\"https://colab.research.google.com/assets/colab-badge.svg\" alt=\"Open In Colab\"/></a>"
      ]
    },
    {
      "cell_type": "markdown",
      "source": [
        "1. 두가지 이상의 선택, 다방향 선택 구조 코딩\n",
        " - 배송료 처리 3가지로 코딩\n",
        " - 변수: price\n",
        " - 조건: 10만원 이상 배송비 0, 2만원 이상은 3천원, 2만원 이하는 5천원"
      ],
      "metadata": {
        "id": "XopWctvArVi4"
      }
    },
    {
      "cell_type": "code",
      "source": [
        "price = int(input(\"구입금액 입력: \"))         # 변수 price 사용자가 정수형 금액입력\n",
        "if price >= 100000:                           # price의 값이 10만원보다 크거나 같으면\n",
        "  shipping_cost = 0                           # 선택1. 배송료(shipping_cost)는 0원\n",
        "else:                                         # 그게 아니면\n",
        "  if price >= 20000:                          # 선택2. price값이 2만원보다 크거나 같으면\n",
        "    shipping_cost = 3000                      # 배송료(shipping_cost)는 3000원\n",
        "  else:                                       # 그것도 아니면\n",
        "    shipping_cost = 5000                      # 선택3. 배송료(shipping_cost)는 5000원\n",
        "print(f'배송료는 {shipping_cost}원 입니다.')  # F-String문자 Format으로 최종 배송료출력"
      ],
      "metadata": {
        "id": "fdwISIFz8zYM"
      },
      "execution_count": null,
      "outputs": []
    },
    {
      "cell_type": "markdown",
      "source": [
        "2. 반복구조를 이용한 \"환영합니다.\"를 5번 출력하는 코드작성\n",
        " - 변수 : Welcome\n",
        " - 출력내용 : 환영합니다.를 세로로 5번, 10번, 30번"
      ],
      "metadata": {
        "id": "COnGC5XO1Rqz"
      }
    },
    {
      "cell_type": "code",
      "source": [
        "print(\"환영합니다\")\n",
        "print(\"환영합니다\")\n",
        "print(\"환영합니다\")\n",
        "print(\"환영합니다\")\n",
        "print(\"환영합니다\")"
      ],
      "metadata": {
        "colab": {
          "base_uri": "https://localhost:8080/"
        },
        "id": "NatmOG5U1UUO",
        "outputId": "15e5551c-91f2-449f-a766-d8df58394e3f"
      },
      "execution_count": 12,
      "outputs": [
        {
          "output_type": "stream",
          "name": "stdout",
          "text": [
            "환영합니다\n",
            "환영합니다\n",
            "환영합니다\n",
            "환영합니다\n",
            "환영합니다\n"
          ]
        }
      ]
    },
    {
      "cell_type": "code",
      "source": [
        "print(\"환영합니다.\\n\" * 5)"
      ],
      "metadata": {
        "colab": {
          "base_uri": "https://localhost:8080/"
        },
        "id": "PgQEe1Dg8-_5",
        "outputId": "6b381ffd-50ef-48a2-cacc-08945269fd48"
      },
      "execution_count": 26,
      "outputs": [
        {
          "output_type": "stream",
          "name": "stdout",
          "text": [
            "환영합니다.\n",
            "환영합니다.\n",
            "환영합니다.\n",
            "환영합니다.\n",
            "환영합니다.\n",
            "\n"
          ]
        }
      ]
    },
    {
      "cell_type": "code",
      "source": [
        "count = 1\n",
        "while count <= 5:\n",
        "  print(\"(\", count, \")\", \"환영합니다.\")\n",
        "  count = count + 1"
      ],
      "metadata": {
        "colab": {
          "base_uri": "https://localhost:8080/"
        },
        "id": "hFTwx89C1YID",
        "outputId": "f9c4eb9b-1f7f-4c48-c19f-3c22cf253fe9"
      },
      "execution_count": 27,
      "outputs": [
        {
          "output_type": "stream",
          "name": "stdout",
          "text": [
            "( 1 ) 환영합니다.\n",
            "( 2 ) 환영합니다.\n",
            "( 3 ) 환영합니다.\n",
            "( 4 ) 환영합니다.\n",
            "( 5 ) 환영합니다.\n"
          ]
        }
      ]
    },
    {
      "cell_type": "markdown",
      "source": [
        "3. 0부터 9까지 출력하는 코드작성\n",
        " - 변수 X"
      ],
      "metadata": {
        "id": "v16jMnEL1muK"
      }
    },
    {
      "cell_type": "code",
      "source": [
        "x = 0\n",
        "while x < 10:\n",
        "  #print(x)\n",
        "  print(x, end=' ')\n",
        "  x = x + 1"
      ],
      "metadata": {
        "colab": {
          "base_uri": "https://localhost:8080/"
        },
        "id": "pAeg_FuD1wN7",
        "outputId": "b94e3858-6c72-45f6-a751-ec39510360f9"
      },
      "execution_count": 17,
      "outputs": [
        {
          "output_type": "stream",
          "name": "stdout",
          "text": [
            "0 1 2 3 4 5 6 7 8 9 "
          ]
        }
      ]
    },
    {
      "cell_type": "code",
      "source": [
        "x = 0\n",
        "while x <= 9:\n",
        "  print(x, end=' ')\n",
        "  x += 1"
      ],
      "metadata": {
        "colab": {
          "base_uri": "https://localhost:8080/"
        },
        "id": "moJFfAhl90aZ",
        "outputId": "b4632dbf-9d1b-486b-b551-79f9fbc3b792"
      },
      "execution_count": 37,
      "outputs": [
        {
          "output_type": "stream",
          "name": "stdout",
          "text": [
            "0 1 2 3 4 5 6 7 8 9 "
          ]
        }
      ]
    },
    {
      "cell_type": "markdown",
      "source": [
        "4. 1부터 10까지 합산하는 코드작성"
      ],
      "metadata": {
        "id": "gwV-hBOT2Dp7"
      }
    },
    {
      "cell_type": "code",
      "source": [
        " x = 1\n",
        "total = 0\n",
        "while x <= 10:\n",
        "  total += x\n",
        "  #total = total + 1\n",
        "  #x = x + 1\n",
        "  x += 1\n",
        "print(total)"
      ],
      "metadata": {
        "colab": {
          "base_uri": "https://localhost:8080/"
        },
        "id": "vm1tW2Hk3JVu",
        "outputId": "83908ead-0be5-445b-ebab-d89c3e2a0d47"
      },
      "execution_count": 28,
      "outputs": [
        {
          "output_type": "stream",
          "name": "stdout",
          "text": [
            "55\n"
          ]
        }
      ]
    },
    {
      "cell_type": "code",
      "source": [
        "X = 1\n",
        "while x <= 10:\n",
        "  print(x, end=' ')"
      ],
      "metadata": {
        "id": "sj4EXCz_3yYF"
      },
      "execution_count": 29,
      "outputs": []
    },
    {
      "cell_type": "markdown",
      "source": [
        "5. 3-6-9 게임(3의 배수 판단): 3의 배수를 3으로 나누면 나머지가 0이 되므로(i mod 3)"
      ],
      "metadata": {
        "id": "NgeWxaUo4W2V"
      }
    },
    {
      "cell_type": "code",
      "source": [
        "for num in range(1, 21):\n",
        "  if num % 3 == 0:\n",
        "    print(\"박수\", end=' ')\n",
        "  else:\n",
        "    print(num, end=' ')"
      ],
      "metadata": {
        "colab": {
          "base_uri": "https://localhost:8080/"
        },
        "id": "yWWfXs884rFV",
        "outputId": "3318c1d9-ac69-4c09-f9c4-9129d5d4039a"
      },
      "execution_count": 30,
      "outputs": [
        {
          "output_type": "stream",
          "name": "stdout",
          "text": [
            "1 2 박수 4 5 박수 7 8 박수 10 11 박수 13 14 박수 16 17 박수 19 20 "
          ]
        }
      ]
    },
    {
      "cell_type": "code",
      "source": [
        "num = 1\n",
        "while num <= 20:\n",
        "  if num % 3 == 0:\n",
        "    print(\"박수\", end=' ')\n",
        "  else:\n",
        "    print(num, end=' ')\n",
        "  num += 1"
      ],
      "metadata": {
        "colab": {
          "base_uri": "https://localhost:8080/"
        },
        "id": "5cO8lmH35VtV",
        "outputId": "e42260cf-59b1-4897-e6d4-a703d53d8594"
      },
      "execution_count": 36,
      "outputs": [
        {
          "output_type": "stream",
          "name": "stdout",
          "text": [
            "1 2 박수 4 5 박수 7 8 박수 10 11 박수 13 14 박수 16 17 박수 19 20 "
          ]
        }
      ]
    }
  ]
}